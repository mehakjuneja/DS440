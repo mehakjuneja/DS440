{
  "cells": [
    {
      "cell_type": "markdown",
      "metadata": {
        "id": "hro3xyblWFAQ"
      },
      "source": [
        "#**Group 4 Code Implementation**#\n",
        "#Movie Reccomendation System#\n",
        "###Mehak Juneja"
      ]
    },
    {
      "cell_type": "markdown",
      "metadata": {
        "id": "efBt7wOpWC8-"
      },
      "source": [
        "https://github.com/sanjayjaras/sanjayjaras.github.io/blob/master/Projects/movies-recommendation/movie-recommendation-final.ipynb"
      ]
    },
    {
      "cell_type": "code",
      "execution_count": 10,
      "metadata": {},
      "outputs": [],
      "source": [
        "import sys"
      ]
    },
    {
      "cell_type": "code",
      "execution_count": 14,
      "metadata": {},
      "outputs": [
        {
          "name": "stdout",
          "output_type": "stream",
          "text": [
            "Defaulting to user installation because normal site-packages is not writeable\n",
            "Collecting numpy\n",
            "  Downloading numpy-1.24.2-cp39-cp39-macosx_10_9_x86_64.whl (19.8 MB)\n",
            "\u001b[K     |████████████████████████████████| 19.8 MB 49.8 MB/s eta 0:00:01\n",
            "\u001b[?25hInstalling collected packages: numpy\n",
            "Successfully installed numpy-1.24.2\n",
            "\u001b[33mWARNING: You are using pip version 21.2.4; however, version 23.0.1 is available.\n",
            "You should consider upgrading via the '/Library/Developer/CommandLineTools/usr/bin/python3 -m pip install --upgrade pip' command.\u001b[0m\n"
          ]
        }
      ],
      "source": [
        "!{sys.executable} -m pip install numpy"
      ]
    },
    {
      "cell_type": "code",
      "execution_count": 2,
      "metadata": {},
      "outputs": [
        {
          "name": "stdout",
          "output_type": "stream",
          "text": [
            "Defaulting to user installation because normal site-packages is not writeable\n",
            "Collecting scikit-learn\n",
            "  Downloading scikit_learn-1.2.2-cp39-cp39-macosx_10_9_x86_64.whl (9.1 MB)\n",
            "\u001b[2K     \u001b[90m━━━━━━━━━━━━━━━━━━━━━━━━━━━━━━━━━━━━━━━━\u001b[0m \u001b[32m9.1/9.1 MB\u001b[0m \u001b[31m13.0 MB/s\u001b[0m eta \u001b[36m0:00:00\u001b[0m00:01\u001b[0m00:01\u001b[0m\n",
            "\u001b[?25hRequirement already satisfied: scipy>=1.3.2 in /Users/mehakjuneja/Library/Python/3.9/lib/python/site-packages (from scikit-learn) (1.10.1)\n",
            "Requirement already satisfied: joblib>=1.1.1 in /Users/mehakjuneja/Library/Python/3.9/lib/python/site-packages (from scikit-learn) (1.2.0)\n",
            "Requirement already satisfied: numpy>=1.17.3 in /Users/mehakjuneja/Library/Python/3.9/lib/python/site-packages (from scikit-learn) (1.24.2)\n",
            "Collecting threadpoolctl>=2.0.0\n",
            "  Downloading threadpoolctl-3.1.0-py3-none-any.whl (14 kB)\n",
            "Installing collected packages: threadpoolctl, scikit-learn\n",
            "Successfully installed scikit-learn-1.2.2 threadpoolctl-3.1.0\n"
          ]
        }
      ],
      "source": [
        "!pip3 install scikit-learn"
      ]
    },
    {
      "cell_type": "code",
      "execution_count": 35,
      "metadata": {
        "colab": {
          "base_uri": "https://localhost:8080/"
        },
        "id": "zIUbkED5IvRN",
        "outputId": "605c666a-d46d-4fe9-d985-82b5173e1fb8"
      },
      "outputs": [
        {
          "name": "stdout",
          "output_type": "stream",
          "text": [
            "Defaulting to user installation because normal site-packages is not writeable\n",
            "Requirement already satisfied: sklearn in /Users/mehakjuneja/Library/Python/3.9/lib/python/site-packages (0.0.post1)\n",
            "\u001b[33mWARNING: You are using pip version 21.2.4; however, version 23.0.1 is available.\n",
            "You should consider upgrading via the '/Library/Developer/CommandLineTools/usr/bin/python3 -m pip install --upgrade pip' command.\u001b[0m\n"
          ]
        }
      ],
      "source": [
        "#!pip install surprise\n",
        "#!pip install numpy\n",
        "!pip3 install sklearn\n"
      ]
    },
    {
      "cell_type": "markdown",
      "metadata": {
        "id": "DSJ8-pTra3F0"
      },
      "source": [
        "#Import Libraries"
      ]
    },
    {
      "cell_type": "code",
      "execution_count": 3,
      "metadata": {
        "id": "klgCMeePW4i-"
      },
      "outputs": [],
      "source": [
        "import numpy as np \n",
        "import pandas as pd \n",
        "import surprise\n",
        "import matplotlib.pyplot as plt\n",
        "from matplotlib import __version__ as mpv\n",
        "import seaborn as sns\n",
        "from sklearn.base import BaseEstimator, TransformerMixin\n",
        "import scipy.sparse as sparse\n",
        "from surprise.model_selection import train_test_split\n",
        "\n",
        "from surprise import SVD\n",
        "from surprise import accuracy\n",
        "from surprise import KNNWithMeans\n",
        "from surprise import Dataset\n",
        "from surprise.model_selection import cross_validate, GridSearchCV\n",
        "from surprise import Reader\n",
        "from collections import defaultdict\n",
        "from ast import literal_eval\n",
        "from sklearn.feature_extraction.text import TfidfVectorizer, CountVectorizer\n",
        "from sklearn.metrics.pairwise import linear_kernel, cosine_similarity"
      ]
    },
    {
      "cell_type": "code",
      "execution_count": null,
      "metadata": {
        "colab": {
          "base_uri": "https://localhost:8080/"
        },
        "id": "i6cfzwjnQu56",
        "outputId": "60ff60d8-8d73-4f1f-8342-adcdcce2beaf"
      },
      "outputs": [
        {
          "name": "stdout",
          "output_type": "stream",
          "text": [
            "Mounted at /content/drive\n"
          ]
        }
      ],
      "source": [
        "# from google.colab import drive\n",
        "# drive.mount('/content/drive', force_remount = True)"
      ]
    },
    {
      "cell_type": "markdown",
      "metadata": {
        "id": "RtGM2LLMbXWC"
      },
      "source": [
        "#Configurations"
      ]
    },
    {
      "cell_type": "code",
      "execution_count": null,
      "metadata": {
        "id": "tYCbM8mwNnJx"
      },
      "outputs": [],
      "source": [
        "# %matplotlib inline\n",
        "# plt.style.use(\"seaborn-darkgrid\")\n",
        "# random_state = 17\n",
        "# np.random.seed(random_state)\n",
        "# import warnings\n",
        "# warnings.filterwarnings('ignore')"
      ]
    },
    {
      "cell_type": "code",
      "execution_count": null,
      "metadata": {
        "id": "F1Y7SSPLPzC2"
      },
      "outputs": [],
      "source": [
        "# rating=pd.read_csv(\"dataset/ratings.csv\")\n",
        "# link=pd.read_csv(\"dataset/links.csv\")\n",
        "# movies=pd.read_csv(\"dataset/movies.csv\")\n",
        "\n",
        "# tags=pd.read_csv(\"dataset/tags.csv\")\n",
        "# genome_scores=pd.read_csv(\"dataset/genome-scores.csv\")\n",
        "# genome_tags=pd.read_csv(\"dataset/genome-tags.csv\")\n",
        "\n",
        "# metadata = pd.read_csv(\"dataset/movies_metadata.csv\")"
      ]
    },
    {
      "cell_type": "markdown",
      "metadata": {
        "id": "3UhMoFnpbvze"
      },
      "source": [
        "#Load Datasets"
      ]
    },
    {
      "cell_type": "code",
      "execution_count": null,
      "metadata": {
        "colab": {
          "base_uri": "https://localhost:8080/"
        },
        "id": "R4EO5fkeSUG0",
        "outputId": "f17d872f-e7e8-4c6b-a59c-3e7924146228"
      },
      "outputs": [
        {
          "name": "stdout",
          "output_type": "stream",
          "text": [
            "Archive:  /content/drive/My Drive/DS 440/movies_metadata.csv.zip\n",
            "replace movies_metadata.csv? [y]es, [n]o, [A]ll, [N]one, [r]ename: "
          ]
        }
      ],
      "source": [
        "!unzip \"/content/drive/My Drive/DS 440/movies_metadata.csv.zip\""
      ]
    },
    {
      "cell_type": "code",
      "execution_count": 5,
      "metadata": {
        "id": "uuIrVdv4Q1mV"
      },
      "outputs": [
        {
          "name": "stderr",
          "output_type": "stream",
          "text": [
            "/var/folders/g8/wdvfql_14mb0kq0_ztjx2pfm0000gn/T/ipykernel_27519/795176653.py:18: DtypeWarning: Columns (10) have mixed types. Specify dtype option on import or set low_memory=False.\n",
            "  metadata = pd.read_csv(\"https://github.com/mehakjuneja/DS440/releases/download/metadata.large/movies_metadata.csv\")\n"
          ]
        }
      ],
      "source": [
        "#rating = pd.read_csv(\"/content/drive/My Drive/DS 440/data/ratings.csv\") #import data\n",
        "rating = pd.read_csv(\"https://github.com/mehakjuneja/DS440/releases/download/ratings.large/ratings.csv\")\n",
        "#link = pd.read_csv(\"/content/drive/My Drive/DS 440/data/links.csv\") #import data\n",
        "link = pd.read_csv(\"https://raw.githubusercontent.com/mehakjuneja/DS440/main/links.csv\") \n",
        "\n",
        "#movies = pd.read_csv(\"/content/drive/My Drive/DS 440/data/movies.csv\") #import data\n",
        "movies=pd.read_csv(\"https://raw.githubusercontent.com/mehakjuneja/DS440/main/movies.csv\")\n",
        "\n",
        "#tags=pd.read_csv(\"/content/drive/My Drive/DS 440/data/tags.csv\")\n",
        "tags=pd.read_csv(\"https://github.com/mehakjuneja/DS440/releases/download/tags.large/tags.csv\")\n",
        "#genome_scores=pd.read_csv(\"/content/drive/My Drive/DS 440/data/genome-scores.csv\")\n",
        "genome_scores = pd.read_csv(\"https://github.com/mehakjuneja/DS440/releases/download/scores.large/genome-scores.csv\")\n",
        "\n",
        "#genome_tags=pd.read_csv(\"/content/drive/My Drive/DS 440/data/genome-tags.csv\")\n",
        "genome_tags=pd.read_csv(\"https://raw.githubusercontent.com/mehakjuneja/DS440/main/genome-tags.csv\")\n",
        "\n",
        "#metadata = pd.read_csv(\"movies_metadata.csv\")\n",
        "metadata = pd.read_csv(\"https://github.com/mehakjuneja/DS440/releases/download/metadata.large/movies_metadata.csv\")"
      ]
    },
    {
      "cell_type": "markdown",
      "metadata": {
        "id": "Y6Y1nkRDio-5"
      },
      "source": [
        "##Movie dataset"
      ]
    },
    {
      "cell_type": "code",
      "execution_count": null,
      "metadata": {
        "id": "lohNEMUoim43"
      },
      "outputs": [],
      "source": [
        "movies.head(5)"
      ]
    },
    {
      "cell_type": "markdown",
      "metadata": {
        "id": "qF2mOOwkh-y2"
      },
      "source": [
        "###Rating dataset\n"
      ]
    },
    {
      "cell_type": "code",
      "execution_count": null,
      "metadata": {
        "id": "rPp0JjDEP0te"
      },
      "outputs": [],
      "source": [
        "rating.info(5)"
      ]
    },
    {
      "cell_type": "markdown",
      "metadata": {
        "id": "6mu22l9xi259"
      },
      "source": [
        "##Link dataset holding relational keys to IMDb and TMDB datasets"
      ]
    },
    {
      "cell_type": "code",
      "execution_count": null,
      "metadata": {
        "id": "GewaLCWoP04T"
      },
      "outputs": [],
      "source": [
        "link.info(5)"
      ]
    },
    {
      "cell_type": "markdown",
      "metadata": {
        "id": "y4Mxilmqygis"
      },
      "source": [
        "###Scoring Dataset"
      ]
    },
    {
      "cell_type": "code",
      "execution_count": null,
      "metadata": {
        "id": "oimpwuxwP1aH"
      },
      "outputs": [],
      "source": [
        "genome_scores.info()"
      ]
    },
    {
      "cell_type": "markdown",
      "metadata": {
        "id": "rzUCv7i7ym84"
      },
      "source": [
        "###Tags Dataset"
      ]
    },
    {
      "cell_type": "code",
      "execution_count": null,
      "metadata": {
        "id": "niw3okqrS7KY"
      },
      "outputs": [],
      "source": [
        "tags.info()"
      ]
    },
    {
      "cell_type": "markdown",
      "metadata": {
        "id": "f73WffnJysy0"
      },
      "source": [
        "###Metadata Dataset"
      ]
    },
    {
      "cell_type": "code",
      "execution_count": null,
      "metadata": {
        "id": "Y0WVRcwbS_e8"
      },
      "outputs": [],
      "source": [
        "metadata.info()"
      ]
    },
    {
      "cell_type": "markdown",
      "metadata": {
        "id": "ivRbUF70UBO0"
      },
      "source": [
        "##EDA"
      ]
    },
    {
      "cell_type": "markdown",
      "metadata": {},
      "source": []
    },
    {
      "cell_type": "markdown",
      "metadata": {
        "id": "2R9Nw8ajyxXJ"
      },
      "source": [
        "###Extract Movie Year from Title"
      ]
    },
    {
      "cell_type": "code",
      "execution_count": null,
      "metadata": {
        "id": "xMNBuWPlTUE4"
      },
      "outputs": [],
      "source": [
        "movies[\"year\"] = movies.title.str.extract('(\\(\\d{4}\\))')\n",
        "movies.year = movies.year.str.extract('(\\d+)')\n",
        "movies.year = pd.to_numeric(movies.year)"
      ]
    },
    {
      "cell_type": "markdown",
      "metadata": {
        "id": "mQK8zEyqy2mt"
      },
      "source": [
        "###Movies by Decade"
      ]
    },
    {
      "cell_type": "code",
      "execution_count": null,
      "metadata": {
        "id": "Q0XAI8AsTZRY"
      },
      "outputs": [],
      "source": [
        "fig, ax = plt.subplots(figsize=(20, 8))\n",
        "p1=sns.histplot(data=movies, x='year', ax=ax, binwidth=10)\n",
        "plt.title('Movie count by decade')\n",
        "plt.xticks(rotation=60)\n",
        "plt.show()"
      ]
    },
    {
      "cell_type": "markdown",
      "metadata": {
        "id": "SIzewT7xUI8V"
      },
      "source": [
        "###Split genre column to dummy columns"
      ]
    },
    {
      "cell_type": "code",
      "execution_count": null,
      "metadata": {
        "id": "6OeFkTG1TZyv"
      },
      "outputs": [],
      "source": [
        "genres = movies.genres.str.get_dummies().add_prefix('g_')\n",
        "movies = pd.concat([movies, genres], axis=1)"
      ]
    },
    {
      "cell_type": "code",
      "execution_count": null,
      "metadata": {
        "id": "sYA4nvD-y_ag"
      },
      "outputs": [],
      "source": [
        "movies.head()"
      ]
    },
    {
      "cell_type": "markdown",
      "metadata": {
        "id": "MDL3lUFGT9JY"
      },
      "source": [
        "###Movies By Genre"
      ]
    },
    {
      "cell_type": "code",
      "execution_count": null,
      "metadata": {
        "id": "dzH_tnm1TaRa"
      },
      "outputs": [],
      "source": [
        "g_cols = [ col for col in movies.columns if col.startswith(\"g_\")] "
      ]
    },
    {
      "cell_type": "code",
      "execution_count": null,
      "metadata": {
        "id": "HhtwJlA2TaWM"
      },
      "outputs": [],
      "source": [
        "fig, ax = plt.subplots(figsize=(20, 8))\n",
        "p1=sns.barplot(x=g_cols, y=movies[g_cols].sum(), ax=ax)\n",
        "plt.title('Movies count by Genre')\n",
        "plt.xticks(rotation=60)\n",
        "plt.show()"
      ]
    },
    {
      "cell_type": "markdown",
      "metadata": {
        "id": "Tk7-1QMCUMF0"
      },
      "source": [
        "### Movies by decade and genre"
      ]
    },
    {
      "cell_type": "code",
      "execution_count": null,
      "metadata": {
        "id": "GElvxy0gTaaK"
      },
      "outputs": [],
      "source": [
        "by_decade_genres= movies[g_cols].groupby(np.floor(movies.year/10)*10).sum()\n",
        "by_decade_genres = by_decade_genres.transpose()\n",
        "for col in by_decade_genres.columns:\n",
        "    by_decade_genres[col] = by_decade_genres[col]/by_decade_genres[col].sum()\n",
        "\n",
        "by_decade_genres"
      ]
    },
    {
      "cell_type": "code",
      "execution_count": null,
      "metadata": {
        "id": "qrzwM3RVUOT-"
      },
      "outputs": [],
      "source": [
        "fig, ax = plt.subplots(figsize=(20, 10))\n",
        "p1=plt.stackplot(by_decade_genres.columns, by_decade_genres, labels=by_decade_genres.index)\n",
        "plt.title('Movies Genre by Decade')\n",
        "plt.xticks(rotation=60)\n",
        "plt.legend(loc=\"upper left\")\n",
        "plt.show()"
      ]
    },
    {
      "cell_type": "markdown",
      "metadata": {
        "id": "HXzeDG0ZURhZ"
      },
      "source": [
        "###Add year column to metadata from release data"
      ]
    },
    {
      "cell_type": "code",
      "execution_count": null,
      "metadata": {
        "id": "me4ZUON2UQCF"
      },
      "outputs": [],
      "source": [
        "metadata['year'] = pd.to_datetime(metadata['release_date'], errors='coerce').apply(\n",
        "    lambda x: str(x).split('-')[0] if x != np.nan else np.nan)"
      ]
    },
    {
      "cell_type": "markdown",
      "metadata": {
        "id": "nK9bCdRVUTgK"
      },
      "source": [
        "###Utility functions"
      ]
    },
    {
      "cell_type": "code",
      "execution_count": null,
      "metadata": {
        "id": "tOSKrSgqUVOV"
      },
      "outputs": [],
      "source": [
        "def to_int(x):\n",
        "    try:\n",
        "        return int(x)\n",
        "    except:\n",
        "        return np.nan\n",
        "\n",
        "def get_first_index(idx):\n",
        "    if isinstance(idx, list) or isinstance(idx, pd.Series):\n",
        "        idx = idx[0]\n",
        "    return idx    "
      ]
    },
    {
      "cell_type": "markdown",
      "metadata": {
        "id": "bwruLuHNUaeB"
      },
      "source": [
        "###Convert Id column to int from object to connect with links"
      ]
    },
    {
      "cell_type": "code",
      "execution_count": null,
      "metadata": {
        "id": "_cumAshxUXhN"
      },
      "outputs": [],
      "source": [
        "metadata['id'] = metadata['id'].apply(to_int)"
      ]
    },
    {
      "cell_type": "markdown",
      "metadata": {
        "id": "Thw9OU27Udmh"
      },
      "source": [
        "##Model Creation"
      ]
    },
    {
      "cell_type": "markdown",
      "metadata": {
        "id": "NpKQ4AldUgUt"
      },
      "source": [
        "###Simple Recommendation model using weighted-rating"
      ]
    },
    {
      "cell_type": "markdown",
      "metadata": {
        "id": "v2kuP5t0UpHM"
      },
      "source": [
        "####Function to return sorted list of movies by weighted rating"
      ]
    },
    {
      "cell_type": "markdown",
      "metadata": {
        "id": "MAnv_MXOUsgn"
      },
      "source": [
        "#####Following formula is used to calculated weighted rating Weighted Rating (WR) = (v/(v+m) * R ) + (m/(v+m)*C)\n",
        " \n",
        " \n"
      ]
    },
    {
      "cell_type": "code",
      "execution_count": null,
      "metadata": {
        "id": "zUaNe-8BUb9f"
      },
      "outputs": [],
      "source": [
        "def get_top_weighted_rating(df, number_of_records=200, percentile=0.85):\n",
        "    non_null_vote_counts = df[df['vote_count'].notnull()]['vote_count']\n",
        "    non_null_vote_avgs = df[df['vote_average'].notnull()]['vote_average']\n",
        "    mean_votes = non_null_vote_avgs.mean()\n",
        "    min_votes_req = non_null_vote_counts.quantile(percentile)\n",
        "\n",
        "    selected = df[(df['vote_count'] >= min_votes_req) & (\n",
        "        df['vote_count'].notnull()) & (df['vote_average'].notnull())]\n",
        "    selected = selected[['title', 'year',\n",
        "                         'vote_count', 'vote_average', 'popularity', 'id']]\n",
        "    selected['weighted_rating'] = selected.apply(lambda x: (\n",
        "        x.vote_count / (x.vote_count + min_votes_req) * x['vote_average']) + (min_votes_req/(min_votes_req + x.vote_count) * mean_votes), axis=1)\n",
        "\n",
        "    selected = selected.sort_values(\n",
        "        'weighted_rating', ascending=False).head(number_of_records)\n",
        "    return selected"
      ]
    },
    {
      "cell_type": "markdown",
      "metadata": {
        "id": "cBzdhus7UnGj"
      },
      "source": [
        "####Function to create top movie charts for all movies and by genre"
      ]
    },
    {
      "cell_type": "code",
      "execution_count": null,
      "metadata": {
        "id": "Ntyt50cxUlJa"
      },
      "outputs": [],
      "source": [
        "def build_top_movie_chart(dataframe, genre=None, percentile=0.85, no_of_movies=200):\n",
        "    if genre is None:\n",
        "        df = dataframe\n",
        "    else:\n",
        "        df = stack_df_by_genre(dataframe)\n",
        "        df = df[df['genre'] == genre]\n",
        "    selected = get_top_weighted_rating(df, no_of_movies, percentile)\n",
        "    return selected\n",
        "\n",
        "def stack_df_by_genre(dataframe):\n",
        "    metadata_temp = dataframe.copy()\n",
        "    metadata_temp['genres'] = metadata_temp['genres'].fillna('[]').apply(literal_eval).apply(\n",
        "        lambda x: [i['name'] for i in x] if isinstance(x, list) else [])\n",
        "    df = metadata_temp.apply(lambda x: pd.Series(\n",
        "        x['genres']), axis=1).stack().reset_index(level=1, drop=True)\n",
        "    df.name = 'genre'\n",
        "    df = metadata_temp.drop('genres', axis=1).join(df)\n",
        "    return df\n",
        "\n",
        "def replace_genre_json_with_list(dataframe, fieldName):\n",
        "    metadata_temp = dataframe.copy()\n",
        "    metadata_temp[fieldName] = metadata_temp[fieldName].fillna('[]').apply(literal_eval).apply(\n",
        "        lambda x: [i['name'] for i in x] if isinstance(x, list) else [])\n",
        "    metadata_temp[fieldName] = metadata_temp[fieldName].apply(lambda x: ','.join(map(str, x)))\n",
        "    return metadata_temp    "
      ]
    },
    {
      "cell_type": "markdown",
      "metadata": {
        "id": "t6ju-Xu6U7Bl"
      },
      "source": [
        "####Top 10 movies by weighted rating"
      ]
    },
    {
      "cell_type": "code",
      "execution_count": null,
      "metadata": {
        "id": "lKT5Re4MU5iT"
      },
      "outputs": [],
      "source": [
        "build_top_movie_chart(metadata, percentile=0.95, no_of_movies=10)"
      ]
    },
    {
      "cell_type": "markdown",
      "metadata": {
        "id": "OsgXPzRwzjp_"
      },
      "source": [
        "####Top 10 Crime movies"
      ]
    },
    {
      "cell_type": "code",
      "execution_count": null,
      "metadata": {
        "id": "8wYzv4_dU8cg"
      },
      "outputs": [],
      "source": [
        "build_top_movie_chart(metadata, genre=\"Crime\", percentile=0.90, no_of_movies=10)\n"
      ]
    },
    {
      "cell_type": "markdown",
      "metadata": {},
      "source": []
    },
    {
      "cell_type": "markdown",
      "metadata": {
        "id": "4OZSHb1fzoHS"
      },
      "source": [
        "####Top 10 Drama movies"
      ]
    },
    {
      "cell_type": "code",
      "execution_count": null,
      "metadata": {
        "id": "B19OejiJzrzJ"
      },
      "outputs": [],
      "source": [
        "build_top_movie_chart(metadata, genre=\"Drama\", percentile=0.90, no_of_movies=10)"
      ]
    },
    {
      "cell_type": "markdown",
      "metadata": {
        "id": "Gg_DxHJTVACS"
      },
      "source": [
        "###**Content Based Recommendation**"
      ]
    },
    {
      "cell_type": "markdown",
      "metadata": {
        "id": "guXXjASizyey"
      },
      "source": [
        "#####Using genres, spoken_languages, tagline, and overview from metadata dataset to create Content based recommendation"
      ]
    },
    {
      "cell_type": "markdown",
      "metadata": {
        "id": "6fdH8EnY0PCr"
      },
      "source": [
        "####Create new column desc by concatenating 4 column contents spoken_languages, tagline, and overview from metadata dataset"
      ]
    },
    {
      "cell_type": "markdown",
      "metadata": {},
      "source": []
    },
    {
      "cell_type": "code",
      "execution_count": null,
      "metadata": {
        "id": "b5Zw6wFvU9pO"
      },
      "outputs": [],
      "source": [
        "metadata_for_cont = metadata.copy()\n",
        "metadata_for_cont = replace_genre_json_with_list(\n",
        "    metadata_for_cont, \"genres\")\n",
        "metadata_for_cont = replace_genre_json_with_list(\n",
        "    metadata_for_cont, \"spoken_languages\")\n",
        "\n",
        "metadata_for_cont[\"genres\"] = metadata_for_cont.genres.fillna(\"\")\n",
        "metadata_for_cont[\"spoken_languages\"] = metadata_for_cont.spoken_languages.fillna(\n",
        "    \"\")\n",
        "metadata_for_cont[\"tagline\"] = metadata_for_cont.tagline.fillna(\"\")\n",
        "metadata_for_cont[\"desc\"] = metadata_for_cont.genres + \\\n",
        "    metadata_for_cont.spoken_languages + \\\n",
        "    metadata_for_cont.overview + metadata_for_cont.tagline\n",
        "metadata_for_cont[\"desc\"] = metadata_for_cont.desc.fillna(\"\")\n",
        "\n",
        "metadata_for_cont = metadata_for_cont[metadata_for_cont.id.isin(link.tmdbId)]"
      ]
    },
    {
      "cell_type": "markdown",
      "metadata": {
        "id": "g9QHz6Ix0MRq"
      },
      "source": [
        "####Content that will be used for Content-Based recommendation\n"
      ]
    },
    {
      "cell_type": "code",
      "execution_count": null,
      "metadata": {
        "id": "w-GlKZp9VEIM"
      },
      "outputs": [],
      "source": [
        "metadata_for_cont.desc"
      ]
    },
    {
      "cell_type": "code",
      "execution_count": null,
      "metadata": {},
      "outputs": [],
      "source": []
    },
    {
      "cell_type": "markdown",
      "metadata": {
        "id": "HC_DXYVaVGWg"
      },
      "source": [
        "####Create n-gram and vectorize for each movie"
      ]
    },
    {
      "cell_type": "code",
      "execution_count": null,
      "metadata": {
        "id": "CmPUqjw3VFum"
      },
      "outputs": [],
      "source": [
        "tf = TfidfVectorizer(analyzer='word', ngram_range=(1, 2),\n",
        "                     min_df=0, stop_words='english')\n",
        "metadata_transformed = tf.fit_transform(metadata_for_cont.desc)"
      ]
    },
    {
      "cell_type": "code",
      "execution_count": null,
      "metadata": {
        "id": "8hNwCmMsVL7K"
      },
      "outputs": [],
      "source": [
        "metadata_transformed.shape"
      ]
    },
    {
      "cell_type": "markdown",
      "metadata": {
        "id": "xqnVaSgPVQS7"
      },
      "source": [
        "####Calculate cosine simalirity between all movies by using words from desc column"
      ]
    },
    {
      "cell_type": "code",
      "execution_count": null,
      "metadata": {
        "id": "roFeZhd3VP0S"
      },
      "outputs": [],
      "source": [
        "cosine_sim = linear_kernel(metadata_transformed, metadata_transformed)"
      ]
    },
    {
      "cell_type": "code",
      "execution_count": null,
      "metadata": {
        "id": "sBSprJp2VT3N"
      },
      "outputs": [],
      "source": [
        "metadata_for_cont = metadata_for_cont.reset_index()\n",
        "titles = metadata_for_cont['title']\n",
        "indices = pd.Series(metadata_for_cont.index, index=metadata_for_cont['title'])"
      ]
    },
    {
      "cell_type": "markdown",
      "metadata": {
        "id": "UUi3d8LqVXGs"
      },
      "source": [
        "####Function to sort movies by simalarity and return(default 30) similar movies of the movie passed as parameter"
      ]
    },
    {
      "cell_type": "code",
      "execution_count": null,
      "metadata": {
        "id": "YsOfiNY5VVco"
      },
      "outputs": [],
      "source": [
        "def get_recommendations(title, no_of_movies=30):\n",
        "    idx = get_first_index(indices[title])\n",
        "    sim_scores = list(enumerate(cosine_sim[idx]))\n",
        "    sim_scores = sorted(sim_scores, key=lambda x: x[1], reverse=True)\n",
        "    sim_scores = sim_scores[1:no_of_movies+1]\n",
        "    movie_indices = [i[0] for i in sim_scores]\n",
        "    return titles.iloc[movie_indices]"
      ]
    },
    {
      "cell_type": "markdown",
      "metadata": {
        "id": "9na6suOMVaUR"
      },
      "source": [
        "####Similar movies to \"The Apartment\" movie"
      ]
    },
    {
      "cell_type": "code",
      "execution_count": null,
      "metadata": {
        "id": "zaVNv5RAVbdV"
      },
      "outputs": [],
      "source": [
        "get_recommendations('The Apartment', 10)"
      ]
    },
    {
      "cell_type": "markdown",
      "metadata": {
        "id": "KupK2WWaVeSu"
      },
      "source": [
        "###**Hybrid model combining weighted rating + content-based model**"
      ]
    },
    {
      "cell_type": "markdown",
      "metadata": {
        "id": "uUCyvSbvVhbx"
      },
      "source": [
        "####Function to calculate Similarity by considering simalarity scores from cosine similarity followed by weighted ratings"
      ]
    },
    {
      "cell_type": "code",
      "execution_count": null,
      "metadata": {
        "id": "6aX91OmiVdRI"
      },
      "outputs": [],
      "source": [
        "def cosine_sim_plus_weighted_rating(title, no_of_movies, quantile=0.60):\n",
        "    idx = get_first_index(indices[title])\n",
        "    sim_scores = list(enumerate(cosine_sim[idx]))\n",
        "    sim_scores = sorted(sim_scores, key=lambda x: x[1], reverse=True)\n",
        "    sim_scores = sim_scores[1:no_of_movies+20]\n",
        "    movie_indices = [i[0] for i in sim_scores]\n",
        "\n",
        "    movs = metadata_for_cont.iloc[movie_indices][[\n",
        "        'title', 'vote_count', 'vote_average', 'year', 'popularity', 'id']]\n",
        "    selected = get_top_weighted_rating(movs, no_of_movies, 0.60)\n",
        "    return selected"
      ]
    },
    {
      "cell_type": "markdown",
      "metadata": {
        "id": "iINJlhyxVo2w"
      },
      "source": [
        "Similar movies to \"The Family\" movie by cosine similarity and weighted rating"
      ]
    },
    {
      "cell_type": "code",
      "execution_count": null,
      "metadata": {
        "id": "3-C0tUDeVpjh"
      },
      "outputs": [],
      "source": [
        "cosine_sim_plus_weighted_rating('The Family', 10, 0.80)"
      ]
    },
    {
      "cell_type": "markdown",
      "metadata": {
        "id": "YWu4i3gJVsz4"
      },
      "source": [
        "Similar movies to \"The Apartment\" movie by cosine similarity and weighted rating"
      ]
    },
    {
      "cell_type": "code",
      "execution_count": null,
      "metadata": {
        "id": "frPWcKAdVsQe"
      },
      "outputs": [],
      "source": [
        "cosine_sim_plus_weighted_rating('The Apartment', 10)"
      ]
    },
    {
      "cell_type": "markdown",
      "metadata": {
        "id": "tJG3_lDXVvvB"
      },
      "source": [
        "###**Collaborative filtering model by using user ratings and finding similar users**"
      ]
    },
    {
      "cell_type": "markdown",
      "metadata": {
        "id": "qx_cHg6WVwLc"
      },
      "source": [
        "####Movies wathced by User with id 5"
      ]
    },
    {
      "cell_type": "code",
      "execution_count": null,
      "metadata": {
        "id": "pNkpS_qbVyGn"
      },
      "outputs": [],
      "source": [
        "def user_watched(user):\n",
        "    watched_movies = rating[rating.userId == user]\n",
        "    return pd.DataFrame({\"title\": movies.title.iloc[watched_movies.movieId], \"genres\": movies.genres.iloc[watched_movies.movieId], \"rating\": watched_movies.rating.values})\n",
        "\n",
        "\n",
        "user_watched(5)"
      ]
    },
    {
      "cell_type": "markdown",
      "metadata": {
        "id": "svBZrDFVV0oR"
      },
      "source": [
        "####Prepare dataset for rating model"
      ]
    },
    {
      "cell_type": "markdown",
      "metadata": {
        "id": "XVb2xNRF1O5X"
      },
      "source": [
        "#####Conver ratings to int8 from float"
      ]
    },
    {
      "cell_type": "code",
      "execution_count": null,
      "metadata": {
        "id": "1_BxBAGlV2VN"
      },
      "outputs": [],
      "source": [
        "rating[\"rating\"] = rating.rating.astype(\"int8\")"
      ]
    },
    {
      "cell_type": "code",
      "execution_count": null,
      "metadata": {
        "id": "P8vOGogDV1wt"
      },
      "outputs": [],
      "source": [
        "reader = Reader(rating_scale=(1, 5))\n",
        "train_set_for_grid_search = rating[:100000]\n",
        "train_set_for_grid_search = Dataset.load_from_df(train_set_for_gri"
      ]
    },
    {
      "cell_type": "markdown",
      "metadata": {
        "id": "RqafE2arV6OA"
      },
      "source": [
        "####Grid search to fine-tune hyperparameters and model selection\n"
      ]
    },
    {
      "cell_type": "code",
      "execution_count": null,
      "metadata": {
        "id": "K8n0--ykV5OM"
      },
      "outputs": [],
      "source": [
        "param_grid = {'n_epochs': [5, 10], 'lr_all': [0.002, 0.005],\n",
        "              'reg_all': [0.4, 0.6]}\n",
        "gs = GridSearchCV(SVD, param_grid, measures=['rmse', 'mae'], cv=3, n_jobs=10, joblib_verbose=2 )\n",
        "\n",
        "gs.fit(train_set_for_grid_search)\n",
        "\n",
        "print(\"Model Name\", \"SVD\")\n",
        "print(gs.best_score['rmse'])\n",
        "print(gs.best_params['rmse'])\n",
        "\n",
        "\n",
        "param_grid = {'n_epochs': [5, 10], 'lr_all': [0.002, 0.005],\n",
        "              'reg_all': [0.4, 0.6], 'k': [50, 100, 200]}\n",
        "gs = GridSearchCV(KNNWithMeans, param_grid, measures=['rmse', 'mae'], cv=3, n_jobs=10, joblib_verbose=2 )\n",
        "\n",
        "gs.fit(train_set_for_grid_search)\n",
        "\n",
        "\n",
        "print(\"Model Name\", \"KNN\")\n",
        "print(gs.best_score['rmse'])\n",
        "print(gs.best_params['rmse'])\n"
      ]
    },
    {
      "cell_type": "markdown",
      "metadata": {
        "id": "MxvdiO_MV_FO"
      },
      "source": [
        "####build model with full dataset"
      ]
    },
    {
      "cell_type": "markdown",
      "metadata": {
        "id": "w31WhN_L1YYr"
      },
      "source": [
        "#####Though the Knn model is better as per grid search reasults I am going with SVD as my hardware is not supporting KNN"
      ]
    },
    {
      "cell_type": "markdown",
      "metadata": {
        "id": "nivHzoc3WAaU"
      },
      "source": [
        "####prepare dataset for surprise models and split into train and test dataset"
      ]
    },
    {
      "cell_type": "code",
      "execution_count": null,
      "metadata": {
        "id": "_mThMj9d1cmn"
      },
      "outputs": [],
      "source": [
        "data = Dataset.load_from_df(rating[['userId', 'movieId', 'rating']], reader)\n",
        "trainset, testset = train_test_split(data, test_size=.25)"
      ]
    },
    {
      "cell_type": "code",
      "execution_count": null,
      "metadata": {
        "id": "0lHmDgqD1fxu"
      },
      "outputs": [],
      "source": [
        "#knn = KNNWithMeans(k=50, measures=['rmse', 'mae'],\n",
        "#                   cv=3, n_jobs=10, joblib_verbose=2, pre_dispatch=1)\n",
        "#knn.fit(trainset)"
      ]
    },
    {
      "cell_type": "markdown",
      "metadata": {
        "id": "r8TBZqWC1fQ4"
      },
      "source": [
        "####Train SVD model on training dataset to calculate accuracy\n"
      ]
    },
    {
      "cell_type": "code",
      "execution_count": null,
      "metadata": {
        "id": "lfQ74xZG1i3p"
      },
      "outputs": [],
      "source": [
        "svd = SVD(verbose=True, n_epochs=10,  lr_all=0.005, reg_all=0.4)\n",
        "svd.fit(trainset)"
      ]
    },
    {
      "cell_type": "markdown",
      "metadata": {
        "id": "Q_R_KHB41ldT"
      },
      "source": [
        "####Accuracy on test dataset"
      ]
    },
    {
      "cell_type": "code",
      "execution_count": null,
      "metadata": {
        "id": "C7a4PUjq1oHh"
      },
      "outputs": [],
      "source": [
        "predictions = svd.test(testset)\n",
        "# Compute and print Root Mean Squared Error\n",
        "accuracy.rmse(predictions, verbose=True)"
      ]
    },
    {
      "cell_type": "code",
      "execution_count": null,
      "metadata": {
        "id": "shxy9BzF1qZ7"
      },
      "outputs": [],
      "source": [
        "svd.fit(data.build_full_trainset())"
      ]
    },
    {
      "cell_type": "code",
      "execution_count": null,
      "metadata": {
        "id": "y5BMl-Cc1tRX"
      },
      "outputs": [],
      "source": [
        "svd.predict(uid=5, iid=100)"
      ]
    },
    {
      "cell_type": "markdown",
      "metadata": {
        "id": "VnonYPMx1v7Q"
      },
      "source": [
        "###**Hybrid model combining weighted rating+content-based cosine simalarity+user based rating based collaborative filtering type**"
      ]
    },
    {
      "cell_type": "markdown",
      "metadata": {
        "id": "HomzV4So1noX"
      },
      "source": [
        "####Combine movie dataset with tmdb dataset"
      ]
    },
    {
      "cell_type": "code",
      "execution_count": null,
      "metadata": {
        "id": "TojGsmNw1vLN"
      },
      "outputs": [],
      "source": [
        "movieId_tmdbId = link.copy()\n",
        "movieId_tmdbId = movieId_tmdbId[[\"movieId\", \"tmdbId\"]]\n",
        "movieId_tmdbId.columns = ['movieId', 'id']\n",
        "movieId_tmdbId = movieId_tmdbId.merge(metadata_for_cont[['title', 'id']], on='id').set_index('title')\n",
        "movieId_tmdbId"
      ]
    },
    {
      "cell_type": "markdown",
      "metadata": {
        "id": "5H93QHdi15Qx"
      },
      "source": [
        "####function to create Hybrid model"
      ]
    },
    {
      "cell_type": "code",
      "execution_count": null,
      "metadata": {
        "id": "2Ihrj1wV16gN"
      },
      "outputs": [],
      "source": [
        "tmdbId_index_movie = movieId_tmdbId.set_index('id')\n",
        "\n",
        "def hybrid_model_cosine_weighted_rate_svd(userId, title, filter_on_weighted_rate=True):\n",
        "    idx = get_first_index(indices[title])\n",
        "    tmdbId = movieId_tmdbId.loc[title]['id']\n",
        "    #print(idx)\n",
        "    movie_id = movieId_tmdbId.loc[title]['movieId']\n",
        "    \n",
        "    sim_scores = list(enumerate(cosine_sim[int(idx)]))\n",
        "    sim_scores = sorted(sim_scores, key=lambda x: x[1], reverse=True)\n",
        "    sim_scores = sim_scores[1:40]\n",
        "    movie_indices = [i[0] for i in sim_scores]\n",
        "\n",
        "    mov = metadata_for_cont.iloc[movie_indices][['title', 'vote_count', 'vote_average', 'year', 'id', 'popularity']]\n",
        "    if filter_on_weighted_rate:\n",
        "        mov = get_top_weighted_rating(mov, 200, 0.30)\n",
        "\n",
        "    mov['est'] = mov['id'].apply(lambda x: svd.predict(userId, tmdbId_index_movie.loc[x]['movieId']).est)\n",
        "    mov = mov.sort_values('est', ascending=False)\n",
        "        \n",
        "    return mov.head(10)"
      ]
    },
    {
      "cell_type": "markdown",
      "metadata": {
        "id": "DT3hHDt918pM"
      },
      "source": [
        "####Recommended movies for user 5, who watched movie Jumanji and filter_on_weighted_rate=False"
      ]
    },
    {
      "cell_type": "code",
      "execution_count": null,
      "metadata": {
        "id": "ISLbmfSH2A3g"
      },
      "outputs": [],
      "source": [
        "hybrid_model_cosine_weighted_rate_svd(5, 'Jumanji', filter_on_weighted_rate=False)\n"
      ]
    },
    {
      "cell_type": "markdown",
      "metadata": {
        "id": "IqzdJ99X2EH_"
      },
      "source": [
        "####Recommended movies for user 5, who watched movie Jumanji and filter_on_weighted_rate=True"
      ]
    },
    {
      "cell_type": "code",
      "execution_count": null,
      "metadata": {
        "id": "rYgzCcHT2FR4"
      },
      "outputs": [],
      "source": [
        "hybrid_model_cosine_weighted_rate_svd(5, 'Jumanji', filter_on_weighted_rate=True)\n"
      ]
    },
    {
      "cell_type": "markdown",
      "metadata": {
        "id": "l9jDSws02JPO"
      },
      "source": [
        "####Recommended movies for user 5, who watched movie Kung Fu Panda and filter_on_weighted_rate=False"
      ]
    },
    {
      "cell_type": "code",
      "execution_count": null,
      "metadata": {
        "id": "OXF-x0Yz2K3b"
      },
      "outputs": [],
      "source": [
        "hybrid_model_cosine_weighted_rate_svd(5, 'Kung Fu Panda', filter_on_weighted_rate=False)"
      ]
    },
    {
      "cell_type": "markdown",
      "metadata": {
        "id": "4vxG3Rur2N87"
      },
      "source": [
        "####Recommended movies for user 5, who watched movie Kung Fu Panda and filter_on_weighted_rate=True"
      ]
    },
    {
      "cell_type": "code",
      "execution_count": null,
      "metadata": {
        "id": "dxQ870-K2Pw0"
      },
      "outputs": [],
      "source": [
        "hybrid_model_cosine_weighted_rate_svd(5, 'Kung Fu Panda', filter_on_weighted_rate=True)\n"
      ]
    },
    {
      "cell_type": "markdown",
      "metadata": {
        "id": "eym0ca1y2TR1"
      },
      "source": [
        "####Recommended movies for user 555, who watched movie Kung Fu Panda and filter_on_weighted_rate=False"
      ]
    },
    {
      "cell_type": "code",
      "execution_count": null,
      "metadata": {
        "id": "Etc2VHxh2UeM"
      },
      "outputs": [],
      "source": [
        "hybrid_model_cosine_weighted_rate_svd(555, 'Kung Fu Panda', filter_on_weighted_rate=False)"
      ]
    },
    {
      "cell_type": "markdown",
      "metadata": {
        "id": "7nc13pph2XzZ"
      },
      "source": [
        "####Recommended movies for user 555, who watched movie Kung Fu Panda and filter_on_weighted_rate=True"
      ]
    },
    {
      "cell_type": "code",
      "execution_count": null,
      "metadata": {
        "id": "UXm_xn642Ztd"
      },
      "outputs": [],
      "source": [
        "hybrid_model_cosine_weighted_rate_svd(555, 'Kung Fu Panda', filter_on_weighted_rate=True)\n"
      ]
    },
    {
      "cell_type": "markdown",
      "metadata": {
        "id": "dkx33v-32bH9"
      },
      "source": []
    }
  ],
  "metadata": {
    "colab": {
      "provenance": []
    },
    "kernelspec": {
      "display_name": "Python 3",
      "name": "python3"
    },
    "language_info": {
      "codemirror_mode": {
        "name": "ipython",
        "version": 3
      },
      "file_extension": ".py",
      "mimetype": "text/x-python",
      "name": "python",
      "nbconvert_exporter": "python",
      "pygments_lexer": "ipython3",
      "version": "3.9.6"
    }
  },
  "nbformat": 4,
  "nbformat_minor": 0
}
